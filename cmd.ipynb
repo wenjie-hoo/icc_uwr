{
 "cells": [
  {
   "cell_type": "code",
   "execution_count": 1,
   "metadata": {},
   "outputs": [],
   "source": [
    "import subprocess\n",
    "import os\n",
    "import boto3\n",
    "from loguru import logger"
   ]
  },
  {
   "cell_type": "code",
   "execution_count": 2,
   "metadata": {},
   "outputs": [],
   "source": [
    " CN_REGION_NAME = 'eu-central-1'  \n",
    " \n",
    "s3 = boto3.client('s3', region_name=CN_REGION_NAME,\n",
    "                  aws_access_key_id=CN_S3_AKI, aws_secret_access_key=CN_S3_SAK)"
   ]
  },
  {
   "cell_type": "code",
   "execution_count": 31,
   "metadata": {},
   "outputs": [
    {
     "name": "stderr",
     "output_type": "stream",
     "text": [
      "2023-02-07 18:51:23.883 | INFO     | __main__:get_files_list:32 - Get file list successful.\n"
     ]
    },
    {
     "name": "stdout",
     "output_type": "stream",
     "text": [
      "['dog1.jpg', 'icc/', 'icc/dog1.jpg', 'icc/pics/dog1.jpg']\n"
     ]
    }
   ],
   "source": [
    "def get_files_list(Prefix=None):\n",
    "    # logger.info(f'Start getting files from s3.')\n",
    "    try:\n",
    "        if Prefix is not None:\n",
    "            all_obj = s3.list_objects_v2(Bucket=BUCKET_NAME, Prefix=Prefix)\n",
    "            # obj = s3.head_object(Bucket=BUCKET_NAME, Key=Prefix)\n",
    "            # logger.info(f\"obj = {obj}\")\n",
    "        else:\n",
    "            all_obj = s3.list_objects_v2(Bucket=BUCKET_NAME)\n",
    "\n",
    "    except Exception as e:\n",
    "        # logger.error(f'Get files list failed. | Exception: {e}')\n",
    "        return\n",
    " \n",
    "    contents = all_obj.get('Contents')\n",
    "    # logger.info(f\"--- contents = {contents}\")\n",
    "    if not contents:\n",
    "        return\n",
    " \n",
    "    file_name_list = []\n",
    "    for zip_obj in contents:\n",
    "        # logger.info(f\"zip_obj = {zip_obj}\")\n",
    "        file_size = round(zip_obj['Size'] / 1024 / 1024, 3)  # 大小\n",
    "        # logger.info(f\"file_path = {zip_obj['Key']}\")\n",
    "        # logger.info(f\"LastModified = {zip_obj['LastModified']}\")\n",
    "        # logger.info(f\"file_size = {file_size} Mb\")\n",
    "        # zip_name = zip_obj['Key'][len(start_after):]\n",
    "        zip_name = zip_obj['Key']\n",
    " \n",
    "        file_name_list.append(zip_name)\n",
    " \n",
    "    logger.info(f'Get file list successful.')\n",
    "\n",
    "    return file_name_list\n",
    "\n",
    "def download_zip(path_s3, path_local):\n",
    "    retry = 0\n",
    "    while retry < 1:  # 下载异常尝试3次\n",
    "        logger.info(f'Start downloading files. | path_s3: {path_s3} | path_local: {path_local}')\n",
    "        try:\n",
    "            s3.download_file(BUCKET_NAME, path_s3, path_local)\n",
    "            file_size = os.path.getsize(path_local)\n",
    "            logger.info(f'Downloading completed. | size: {round(file_size / 1048576, 2)} MB')\n",
    "            break  # 下载完成后退出重试\n",
    "        except Exception as e:\n",
    "            logger.error(f'Download zip failed. | Exception: {e}')\n",
    "            retry += 1\n",
    " \n",
    "    if retry >= 3:\n",
    "        logger.error(f'Download zip failed after max retry.')\n",
    "        \n",
    "file_name_list = get_files_list()\n",
    "print(file_name_list)\n",
    "\n",
    "# download_zip('wenjie-hoo/icc/pics/dog1.jpg','./')\n",
    "    "
   ]
  },
  {
   "cell_type": "code",
   "execution_count": 3,
   "metadata": {},
   "outputs": [
    {
     "name": "stdout",
     "output_type": "stream",
     "text": [
      "download: s3://wenjie-hoo/icc/pics/cat1.jpg to data/pics/cat1.jpg  \n",
      "download: s3://wenjie-hoo/icc/pics/dog1.jpg to data/pics/dog1.jpg   \n"
     ]
    }
   ],
   "source": [
    "! aws s3 cp s3://wenjie-hoo/icc/pics/ ./data/pics/ --recursive"
   ]
  },
  {
   "cell_type": "code",
   "execution_count": 70,
   "metadata": {},
   "outputs": [
    {
     "name": "stdout",
     "output_type": "stream",
     "text": [
      "giraffe.jpg\n",
      "eagle.jpg\n",
      "dog.jpg\n",
      "scream.jpg\n",
      "kite.jpg\n",
      "person.jpg\n",
      "fire.jpg\n",
      "horses.jpg\n"
     ]
    }
   ],
   "source": [
    "\n",
    "def getfiles(pic_path):\n",
    "    filenames=os.listdir(pic_path)\n",
    "    return filenames\n",
    "pics_list = getfiles(pic_path)\n",
    "for i in pics_list:\n",
    "    print(i)"
   ]
  },
  {
   "cell_type": "code",
   "execution_count": 82,
   "metadata": {},
   "outputs": [],
   "source": [
    "def mkdir_folder(folder_path,classes_list):\n",
    "    if os.path.exists(folder_path):\n",
    "        for i in classes_list:\n",
    "            path = folder_path + str(i)+'/'\n",
    "            if os.path.exists(path):\n",
    "                continue\n",
    "            else:\n",
    "                os.mkdir(path)\n",
    "        return\n",
    "    else:\n",
    "        os.mkdir(r'./cate_pics/')\n",
    "        mkdir_folder(folder_path,classes_list)\n",
    "        \n",
    "def copy2cate(pic,class_list):\n",
    "    pic_path = './data/pics/'+str(pic)\n",
    "    for i in class_list:\n",
    "        cate_path = pics_path+str(i)+'/'\n",
    "        "
   ]
  },
  {
   "cell_type": "code",
   "execution_count": 84,
   "metadata": {},
   "outputs": [
    {
     "name": "stdout",
     "output_type": "stream",
     "text": [
      "giraffe.jpg ['giraffe', 'zebra']\n",
      "./cate_pics/giraffe/\n",
      "./cate_pics/zebra/\n",
      "eagle.jpg ['bird']\n",
      "./cate_pics/bird/\n",
      "dog.jpg ['truck', 'bicycle', 'dog', 'car']\n",
      "./cate_pics/truck/\n",
      "./cate_pics/bicycle/\n",
      "./cate_pics/dog/\n",
      "./cate_pics/car/\n",
      "scream.jpg []\n",
      "kite.jpg ['person', 'kite']\n",
      "./cate_pics/person/\n",
      "./cate_pics/kite/\n",
      "person.jpg ['person', 'dog', 'horse']\n",
      "./cate_pics/person/\n",
      "./cate_pics/dog/\n",
      "./cate_pics/horse/\n",
      "fire.jpg ['fire hydrant']\n",
      "./cate_pics/fire hydrant/\n",
      "horses.jpg ['cow', 'horse']\n",
      "./cate_pics/cow/\n",
      "./cate_pics/horse/\n"
     ]
    }
   ],
   "source": [
    "# yolo_path = 'cd ../darknet/'\n",
    "pics_path = './cate_pics/'\n",
    "with open('./coco_category.txt') as f:\n",
    "    classes =f.read().splitlines() \n",
    "    \n",
    "mkdir_folder(folder_path,classes)    \n",
    "\n",
    "for pic in pics_list:\n",
    "    # print(pic)\n",
    "    yolo_cmd = './darknet detect cfg/yolov3-tiny.cfg yolov3-tiny.weights data/pics/'+str(pic)\n",
    "    output = subprocess.getoutput(yolo_cmd)\n",
    "    output = output[output.index(\"seconds\")+8:]\n",
    "    class_list = list(set(re.findall(r\"(?=(\"+'|'.join(classes)+r\"))\", output)))\n",
    "    print(pic,class_list)\n",
    "    copy2cate(pic,class_list)\n",
    "    "
   ]
  },
  {
   "cell_type": "code",
   "execution_count": 31,
   "metadata": {},
   "outputs": [
    {
     "data": {
      "text/plain": [
       "'\\ndog: 57%\\ncar: 52%\\ntruck: 56%\\ncar: 62%\\nbicycle: 59%'"
      ]
     },
     "execution_count": 31,
     "metadata": {},
     "output_type": "execute_result"
    }
   ],
   "source": [
    "yolo_cmd = './darknet detect cfg/yolov3-tiny.cfg yolov3-tiny.weights data/pics/dog.jpg'\n",
    "    # yolo_cmd = './darknet detect cfg/yolov3-tiny.cfg yolov3-tiny.weights data/pics/'+str(i)\n",
    "output = subprocess.getoutput(yolo_cmd)\n",
    "output = output[output.index(\"seconds\")+8:]\n",
    "output"
   ]
  },
  {
   "cell_type": "code",
   "execution_count": 44,
   "metadata": {},
   "outputs": [
    {
     "data": {
      "text/plain": [
       "['cow', 'horse']"
      ]
     },
     "execution_count": 44,
     "metadata": {},
     "output_type": "execute_result"
    }
   ],
   "source": [
    "import re\n",
    "with open('./coco_category.txt') as f:\n",
    "    classes =f.read().splitlines() \n",
    "\n",
    "classes = [\"aeroplane\", \"bicycle\", \"bird\", \"boat\", \"bottle\", \"bus\", \"car\", \"cat\", \"chair\", \"cow\", \"diningtable\", \"dog\", \"horse\", \"motorbike\", \"person\", \"pottedplant\", \"sheep\", \"sofa\", \"train\", \"tvmonitor\"]\n",
    "classx = re.findall(r\"(?=(\"+'|'.join(classes)+r\"))\", output)\n",
    "list(set(re.findall(r\"(?=(\"+'|'.join(classes)+r\"))\", output)))"
   ]
  },
  {
   "cell_type": "code",
   "execution_count": 24,
   "metadata": {},
   "outputs": [
    {
     "name": "stdout",
     "output_type": "stream",
     "text": [
      "['fun']\n"
     ]
    }
   ],
   "source": [
    "import re\n",
    "string_lst = ['fun', 'dum', 'sun', 'gum']\n",
    "x=\"I love to have fun.\"\n",
    "\n",
    "print(re.findall(r\"(?=(\"+'|'.join(string_lst)+r\"))\", x))"
   ]
  }
 ],
 "metadata": {
  "kernelspec": {
   "display_name": "Python 3",
   "language": "python",
   "name": "python3"
  },
  "language_info": {
   "codemirror_mode": {
    "name": "ipython",
    "version": 3
   },
   "file_extension": ".py",
   "mimetype": "text/x-python",
   "name": "python",
   "nbconvert_exporter": "python",
   "pygments_lexer": "ipython3",
   "version": "3.9.7"
  },
  "orig_nbformat": 4
 },
 "nbformat": 4,
 "nbformat_minor": 2
}
